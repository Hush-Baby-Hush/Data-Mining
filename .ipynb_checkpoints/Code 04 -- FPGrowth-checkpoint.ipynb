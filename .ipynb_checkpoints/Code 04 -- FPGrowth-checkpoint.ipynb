{
 "cells": [
  {
   "cell_type": "markdown",
   "metadata": {},
   "source": [
    "# FPGrowth Algorithm\n",
    "\n",
    "Source from https://github.com/chonyy/fpgrowth_py\n"
   ]
  },
  {
   "cell_type": "code",
   "execution_count": null,
   "metadata": {},
   "outputs": [],
   "source": [
    "from collections import defaultdict, OrderedDict\n",
    "from csv import reader\n",
    "from itertools import chain, combinations\n",
    "from optparse import OptionParser"
   ]
  },
  {
   "cell_type": "markdown",
   "metadata": {},
   "source": [
    "### FPGrowth Core"
   ]
  },
  {
   "cell_type": "code",
   "execution_count": null,
   "metadata": {},
   "outputs": [],
   "source": [
    "def fpgrowth(itemSetList, minSupRatio, minConf):\n",
    "    frequency = getFrequencyFromList(itemSetList)\n",
    "    minSup = len(itemSetList) * minSupRatio\n",
    "    fpTree, headerTable = constructTree(itemSetList, frequency, minSup)\n",
    "    if(fpTree == None):\n",
    "        print('No frequent item set')\n",
    "    else:\n",
    "        freqItems = []\n",
    "        mineTree(headerTable, minSup, set(), freqItems)\n",
    "        rules = associationRule(freqItems, itemSetList, minConf)\n",
    "        return freqItems, rules"
   ]
  },
  {
   "cell_type": "markdown",
   "metadata": {},
   "source": [
    "### Construct Tree, along with Update Tree and Update Header Table"
   ]
  },
  {
   "cell_type": "code",
   "execution_count": null,
   "metadata": {},
   "outputs": [],
   "source": [
    "def constructTree(itemSetList, frequency, minSup):\n",
    "    headerTable = defaultdict(int)\n",
    "    # Counting frequency and create header table\n",
    "    for idx, itemSet in enumerate(itemSetList):\n",
    "        for item in itemSet:\n",
    "            headerTable[item] += frequency[idx]\n",
    "\n",
    "    # Deleting items below minSup\n",
    "    headerTable = dict((item, sup) for item, sup in headerTable.items() if sup >= minSup)\n",
    "    if(len(headerTable) == 0):\n",
    "        return None, None\n",
    "\n",
    "    # HeaderTable column [Item: [frequency, headNode]]\n",
    "    for item in headerTable:\n",
    "        headerTable[item] = [headerTable[item], None]\n",
    "\n",
    "    # Init Null head node\n",
    "    fpTree = Node('Null', 1, None)\n",
    "    # Update FP tree for each cleaned and sorted itemSet\n",
    "    for idx, itemSet in enumerate(itemSetList):\n",
    "        itemSet = [item for item in itemSet if item in headerTable]\n",
    "        itemSet.sort(key=lambda item: headerTable[item][0], reverse=True)\n",
    "        # Traverse from root to leaf, update tree with given item\n",
    "        currentNode = fpTree\n",
    "        for item in itemSet:\n",
    "            currentNode = updateTree(item, currentNode, headerTable, frequency[idx])\n",
    "\n",
    "    return fpTree, headerTable"
   ]
  },
  {
   "cell_type": "code",
   "execution_count": null,
   "metadata": {},
   "outputs": [],
   "source": [
    "def updateTree(item, treeNode, headerTable, frequency):\n",
    "    if item in treeNode.children:\n",
    "        # If the item already exists, increment the count\n",
    "        treeNode.children[item].increment(frequency)\n",
    "    else:\n",
    "        # Create a new branch\n",
    "        newItemNode = Node(item, frequency, treeNode)\n",
    "        treeNode.children[item] = newItemNode\n",
    "        # Link the new branch to header table\n",
    "        updateHeaderTable(item, newItemNode, headerTable)\n",
    "\n",
    "    return treeNode.children[item]"
   ]
  },
  {
   "cell_type": "code",
   "execution_count": null,
   "metadata": {},
   "outputs": [],
   "source": [
    "def updateHeaderTable(item, targetNode, headerTable):\n",
    "    if(headerTable[item][1] == None):\n",
    "        headerTable[item][1] = targetNode\n",
    "    else:\n",
    "        currentNode = headerTable[item][1]\n",
    "        # Traverse to the last node then link it to the target\n",
    "        while currentNode.next != None:\n",
    "            currentNode = currentNode.next\n",
    "        currentNode.next = targetNode"
   ]
  },
  {
   "cell_type": "markdown",
   "metadata": {},
   "source": [
    "### Mine Tree"
   ]
  },
  {
   "cell_type": "code",
   "execution_count": null,
   "metadata": {},
   "outputs": [],
   "source": [
    "def mineTree(headerTable, minSup, preFix, freqItemList):\n",
    "    # Sort the items with frequency and create a list\n",
    "    sortedItemList = [item[0] for item in sorted(list(headerTable.items()), key=lambda p:p[1][0])] \n",
    "    \n",
    "    # Start with the lowest frequency\n",
    "    for item in sortedItemList:  \n",
    "        # Pattern growth is achieved by the concatenation of suffix pattern with frequent patterns generated from conditional FP-tree\n",
    "        newFreqSet = preFix.copy()\n",
    "        newFreqSet.add(item)\n",
    "        freqItemList.append(newFreqSet)\n",
    "        \n",
    "        # Find all prefix path, constrcut conditional pattern base\n",
    "        conditionalPattBase, frequency = findPrefixPath(item, headerTable) \n",
    "        \n",
    "        # Construct conditonal FP Tree with conditional pattern base\n",
    "        conditionalTree, newHeaderTable = constructTree(conditionalPattBase, frequency, minSup) \n",
    "        \n",
    "        if newHeaderTable != None:\n",
    "            # Mining recursively on the tree\n",
    "            mineTree(newHeaderTable, minSup,\n",
    "                       newFreqSet, freqItemList)"
   ]
  },
  {
   "cell_type": "code",
   "execution_count": null,
   "metadata": {},
   "outputs": [],
   "source": [
    "def findPrefixPath(basePat, headerTable):\n",
    "    # First node in linked list\n",
    "    treeNode = headerTable[basePat][1] \n",
    "    condPats = []\n",
    "    frequency = []\n",
    "    while treeNode != None:\n",
    "        prefixPath = []\n",
    "        \n",
    "        # From leaf node all the way to root\n",
    "        ascendFPtree(treeNode, prefixPath)  \n",
    "        if len(prefixPath) > 1:\n",
    "            # Storing the prefix path and it's corresponding count\n",
    "            condPats.append(prefixPath[1:])\n",
    "            frequency.append(treeNode.count)\n",
    "\n",
    "        # Go to next node\n",
    "        treeNode = treeNode.next  \n",
    "    return condPats, frequency"
   ]
  },
  {
   "cell_type": "code",
   "execution_count": null,
   "metadata": {},
   "outputs": [],
   "source": [
    "def ascendFPtree(node, prefixPath):\n",
    "    if node.parent != None:\n",
    "        prefixPath.append(node.itemName)\n",
    "        ascendFPtree(node.parent, prefixPath)"
   ]
  },
  {
   "cell_type": "markdown",
   "metadata": {},
   "source": [
    "### Utilities"
   ]
  },
  {
   "cell_type": "code",
   "execution_count": null,
   "metadata": {},
   "outputs": [],
   "source": [
    "from csv import reader\n",
    "from collections import defaultdict\n",
    "from itertools import chain, combinations\n",
    "\n",
    "class Node:\n",
    "    def __init__(self, itemName, frequency, parentNode):\n",
    "        self.itemName = itemName\n",
    "        self.count = frequency\n",
    "        self.parent = parentNode\n",
    "        self.children = {}\n",
    "        self.next = None\n",
    "\n",
    "    def increment(self, frequency):\n",
    "        self.count += frequency\n",
    "\n",
    "    def display(self, ind=1):\n",
    "        print('  ' * ind, self.itemName, ' ', self.count)\n",
    "        for child in list(self.children.values()):\n",
    "            child.display(ind+1)"
   ]
  },
  {
   "cell_type": "code",
   "execution_count": null,
   "metadata": {},
   "outputs": [],
   "source": [
    "def powerset(s):\n",
    "    return chain.from_iterable(combinations(s, r) for r in range(1, len(s)))\n",
    "\n",
    "def getSupport(testSet, itemSetList):\n",
    "    count = 0\n",
    "    for itemSet in itemSetList:\n",
    "        if(set(testSet).issubset(itemSet)):\n",
    "            count += 1\n",
    "    return count\n",
    "\n",
    "def getFrequencyFromList(itemSetList):\n",
    "    frequency = [1 for i in range(len(itemSetList))]\n",
    "    return frequency"
   ]
  },
  {
   "cell_type": "code",
   "execution_count": null,
   "metadata": {},
   "outputs": [],
   "source": [
    "def associationRule(freqItemSet, itemSetList, minConf):\n",
    "    rules = []\n",
    "    for itemSet in freqItemSet:\n",
    "        subsets = powerset(itemSet)\n",
    "        itemSetSup = getSupport(itemSet, itemSetList)\n",
    "        for s in subsets:\n",
    "            confidence = float(itemSetSup / getSupport(s, itemSetList))\n",
    "            if(confidence > minConf):\n",
    "                rules.append([set(s), set(itemSet.difference(s)), confidence])\n",
    "    return rules"
   ]
  },
  {
   "cell_type": "code",
   "execution_count": null,
   "metadata": {},
   "outputs": [],
   "source": [
    "def getFromFile(fname):\n",
    "    itemSetList = []\n",
    "    frequency = []\n",
    "    \n",
    "    with open(fname, 'r') as file:\n",
    "        csv_reader = reader(file)\n",
    "        for line in csv_reader:\n",
    "            line = list(filter(None, line))\n",
    "            itemSetList.append(line)\n",
    "            frequency.append(1)\n",
    "\n",
    "    return itemSetList, frequency\n",
    "\n",
    "def fpgrowthFromFile(fname, minSupRatio, minConf):\n",
    "    itemSetList, frequency = getFromFile(fname)\n",
    "    minSup = len(itemSetList) * minSupRatio\n",
    "    fpTree, headerTable = constructTree(itemSetList, frequency, minSup)\n",
    "\n",
    "    freqItems = []\n",
    "    mineTree(headerTable, minSup, set(), freqItems)\n",
    "    rules = associationRule(freqItems, itemSetList, minConf)\n",
    "    return freqItems, rules"
   ]
  },
  {
   "cell_type": "markdown",
   "metadata": {},
   "source": [
    "### Example 1: Alphabet itemsets"
   ]
  },
  {
   "cell_type": "code",
   "execution_count": null,
   "metadata": {},
   "outputs": [],
   "source": [
    "itemSetList = [['A', 'C', 'D'],\n",
    "                ['B', 'C', 'E'],\n",
    "                ['A', 'B', 'C', 'E'],\n",
    "                ['B', 'E']]"
   ]
  },
  {
   "cell_type": "code",
   "execution_count": null,
   "metadata": {},
   "outputs": [],
   "source": [
    "freqItemSet, rules = apriori(itemSetList, minSup=0.5, minConf=0.5)"
   ]
  },
  {
   "cell_type": "code",
   "execution_count": null,
   "metadata": {},
   "outputs": [],
   "source": [
    "print(freqItemSet)"
   ]
  },
  {
   "cell_type": "code",
   "execution_count": null,
   "metadata": {},
   "outputs": [],
   "source": [
    "print(rules)"
   ]
  },
  {
   "cell_type": "markdown",
   "metadata": {},
   "source": [
    "### Example 2: Grocery store market basket"
   ]
  },
  {
   "cell_type": "code",
   "execution_count": null,
   "metadata": {},
   "outputs": [],
   "source": [
    "itemSetList = [['eggs', 'bacon', 'soup'],\n",
    "                ['eggs', 'bacon', 'apple'],\n",
    "                ['soup', 'bacon', 'banana']]"
   ]
  },
  {
   "cell_type": "code",
   "execution_count": null,
   "metadata": {},
   "outputs": [],
   "source": [
    "freqItemSet, rules = fpgrowth(itemSetList, minSupRatio=0.5, minConf=0.5)"
   ]
  },
  {
   "cell_type": "code",
   "execution_count": null,
   "metadata": {},
   "outputs": [],
   "source": [
    "print(freqItemSet)"
   ]
  },
  {
   "cell_type": "code",
   "execution_count": null,
   "metadata": {},
   "outputs": [],
   "source": [
    "print(rules)"
   ]
  }
 ],
 "metadata": {
  "anaconda-cloud": {},
  "colab": {
   "name": "05.09-Principal-Component-Analysis.ipynb",
   "provenance": []
  },
  "kernelspec": {
   "display_name": "Python 3",
   "language": "python",
   "name": "python3"
  },
  "language_info": {
   "codemirror_mode": {
    "name": "ipython",
    "version": 3
   },
   "file_extension": ".py",
   "mimetype": "text/x-python",
   "name": "python",
   "nbconvert_exporter": "python",
   "pygments_lexer": "ipython3",
   "version": "3.8.8"
  }
 },
 "nbformat": 4,
 "nbformat_minor": 1
}
