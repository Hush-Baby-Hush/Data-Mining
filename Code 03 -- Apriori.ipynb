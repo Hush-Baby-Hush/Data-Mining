{
 "cells": [
  {
   "cell_type": "markdown",
   "metadata": {},
   "source": [
    "# Apriori Algorithm for Frequent Patterns and Association Rules\n",
    "\n",
    "Source from https://github.com/chonyy/apriori_python\n"
   ]
  },
  {
   "cell_type": "code",
   "execution_count": null,
   "metadata": {
    "collapsed": true
   },
   "outputs": [],
   "source": [
    "from collections import defaultdict\n",
    "from itertools import chain, combinations"
   ]
  },
  {
   "cell_type": "markdown",
   "metadata": {},
   "source": [
    "### Prunning"
   ]
  },
  {
   "cell_type": "code",
   "execution_count": null,
   "metadata": {
    "collapsed": true
   },
   "outputs": [],
   "source": [
    "def pruning(candidateSet, prevFreqSet, length):\n",
    "    tempCandidateSet = candidateSet.copy()\n",
    "    for item in candidateSet:\n",
    "        subsets = combinations(item, length)\n",
    "        for subset in subsets:\n",
    "            # if the subset is not in previous K-frequent get, then remove the set\n",
    "            if(frozenset(subset) not in prevFreqSet):\n",
    "                tempCandidateSet.remove(item)\n",
    "                break\n",
    "    return tempCandidateSet"
   ]
  },
  {
   "cell_type": "markdown",
   "metadata": {},
   "source": [
    "### Scan data to get frequent patterns from candidates"
   ]
  },
  {
   "cell_type": "code",
   "execution_count": null,
   "metadata": {
    "collapsed": true
   },
   "outputs": [],
   "source": [
    "def getAboveMinSup(itemSet, itemSetList, minSup, globalItemSetWithSup):\n",
    "    freqItemSet = set()\n",
    "    localItemSetWithSup = defaultdict(int)\n",
    "\n",
    "    for item in itemSet:\n",
    "        for itemSet in itemSetList:\n",
    "            if item.issubset(itemSet):\n",
    "                globalItemSetWithSup[item] += 1\n",
    "                localItemSetWithSup[item] += 1\n",
    "\n",
    "    for item, supCount in localItemSetWithSup.items():\n",
    "        support = float(supCount / len(itemSetList))\n",
    "        if(support >= minSup):\n",
    "            freqItemSet.add(item)\n",
    "\n",
    "    return freqItemSet"
   ]
  },
  {
   "cell_type": "markdown",
   "metadata": {},
   "source": [
    "### Get association rules"
   ]
  },
  {
   "cell_type": "code",
   "execution_count": null,
   "metadata": {
    "collapsed": true
   },
   "outputs": [],
   "source": [
    "def associationRule(freqItemSet, itemSetWithSup, minConf):\n",
    "    rules = []\n",
    "    for k, itemSet in freqItemSet.items():\n",
    "        for item in itemSet:\n",
    "            subsets = powerset(item)\n",
    "            for s in subsets:\n",
    "                confidence = float(\n",
    "                    itemSetWithSup[item] / itemSetWithSup[frozenset(s)])\n",
    "                if(confidence > minConf):\n",
    "                    rules.append([set(s), set(item.difference(s)), confidence])\n",
    "    return rules"
   ]
  },
  {
   "cell_type": "markdown",
   "metadata": {},
   "source": [
    "### Utilities"
   ]
  },
  {
   "cell_type": "code",
   "execution_count": null,
   "metadata": {
    "collapsed": true
   },
   "outputs": [],
   "source": [
    "def getItemSetFromList(itemSetList):\n",
    "    tempItemSet = set()\n",
    "\n",
    "    for itemSet in itemSetList:\n",
    "        for item in itemSet:\n",
    "            tempItemSet.add(frozenset([item]))\n",
    "\n",
    "    return tempItemSet"
   ]
  },
  {
   "cell_type": "code",
   "execution_count": null,
   "metadata": {
    "collapsed": true
   },
   "outputs": [],
   "source": [
    "def powerset(s):\n",
    "    return chain.from_iterable(combinations(s, r) for r in range(1, len(s)))"
   ]
  },
  {
   "cell_type": "markdown",
   "metadata": {},
   "source": [
    "#### Does getUnion do exactly what we have discussed in class?"
   ]
  },
  {
   "cell_type": "code",
   "execution_count": null,
   "metadata": {
    "collapsed": true
   },
   "outputs": [],
   "source": [
    "def getUnion(itemSet, length):\n",
    "    return set([i.union(j) for i in itemSet for j in itemSet if len(i.union(j)) == length])"
   ]
  },
  {
   "cell_type": "markdown",
   "metadata": {},
   "source": [
    "### Apriori Algorithm "
   ]
  },
  {
   "cell_type": "code",
   "execution_count": null,
   "metadata": {
    "collapsed": true
   },
   "outputs": [],
   "source": [
    "def apriori(itemSetList, minSup, minConf):\n",
    "    C1ItemSet = getItemSetFromList(itemSetList)\n",
    "    # Final result, global frequent itemset\n",
    "    globalFreqItemSet = dict()\n",
    "    # Storing global itemset with support count\n",
    "    globalItemSetWithSup = defaultdict(int)\n",
    "\n",
    "    L1ItemSet = getAboveMinSup(C1ItemSet, itemSetList, minSup, globalItemSetWithSup)\n",
    "    print('Frequent 1 itemsets:')\n",
    "    print(L1ItemSet)\n",
    "    input()\n",
    "    \n",
    "    currentLSet = L1ItemSet\n",
    "    k = 2\n",
    "\n",
    "    # Calculating frequent item set\n",
    "    while(currentLSet):\n",
    "        print('--- Analysis for k =', k, '---')\n",
    "        # Storing frequent itemset\n",
    "        globalFreqItemSet[k-1] = currentLSet\n",
    "        \n",
    "        # Self-joining Lk\n",
    "        candidateSet = getUnion(currentLSet, k)\n",
    "        print('Candidates after self-join:')\n",
    "        print(candidateSet)\n",
    "        input()\n",
    "        \n",
    "        # Perform subset testing and remove pruned supersets\n",
    "        candidateSet = pruning(candidateSet, currentLSet, k-1)\n",
    "        print('Candidates after prunning:')\n",
    "        print(candidateSet)\n",
    "        input()\n",
    "        \n",
    "        # Scanning itemSet for counting support\n",
    "        currentLSet = getAboveMinSup(candidateSet, itemSetList, minSup, globalItemSetWithSup)\n",
    "        print('Frequent patterns after scan:')\n",
    "        print(currentLSet)\n",
    "        input()\n",
    "        \n",
    "        k += 1\n",
    "\n",
    "    rules = associationRule(globalFreqItemSet, globalItemSetWithSup, minConf)\n",
    "    rules.sort(key=lambda x: x[2])\n",
    "\n",
    "    return globalFreqItemSet, rules"
   ]
  },
  {
   "cell_type": "markdown",
   "metadata": {},
   "source": [
    "### Example 1: Alphabet itemsets"
   ]
  },
  {
   "cell_type": "code",
   "execution_count": null,
   "metadata": {
    "collapsed": true
   },
   "outputs": [],
   "source": [
    "itemSetList = [['A', 'C', 'D'],\n",
    "                ['B', 'C', 'E'],\n",
    "                ['A', 'B', 'C', 'E'],\n",
    "                ['B', 'E']]"
   ]
  },
  {
   "cell_type": "code",
   "execution_count": null,
   "metadata": {
    "collapsed": true
   },
   "outputs": [],
   "source": [
    "freqItemSet, rules = apriori(itemSetList, minSup=0.5, minConf=0.5)"
   ]
  },
  {
   "cell_type": "code",
   "execution_count": null,
   "metadata": {
    "collapsed": true
   },
   "outputs": [],
   "source": [
    "print(freqItemSet)"
   ]
  },
  {
   "cell_type": "code",
   "execution_count": null,
   "metadata": {
    "collapsed": true
   },
   "outputs": [],
   "source": [
    "print(rules)"
   ]
  },
  {
   "cell_type": "markdown",
   "metadata": {},
   "source": [
    "### Example 2: Grocery store market basket"
   ]
  },
  {
   "cell_type": "code",
   "execution_count": null,
   "metadata": {
    "collapsed": true
   },
   "outputs": [],
   "source": [
    "itemSetList = [['eggs', 'bacon', 'soup'],\n",
    "                ['eggs', 'bacon', 'apple'],\n",
    "                ['soup', 'bacon', 'banana']]"
   ]
  },
  {
   "cell_type": "code",
   "execution_count": null,
   "metadata": {
    "collapsed": true
   },
   "outputs": [],
   "source": [
    "freqItemSet, rules = apriori(itemSetList, minSup=0.5, minConf=0.5)"
   ]
  },
  {
   "cell_type": "code",
   "execution_count": null,
   "metadata": {
    "collapsed": true
   },
   "outputs": [],
   "source": [
    "print(freqItemSet)"
   ]
  },
  {
   "cell_type": "code",
   "execution_count": null,
   "metadata": {
    "collapsed": true
   },
   "outputs": [],
   "source": [
    "print(rules)"
   ]
  }
 ],
 "metadata": {
  "anaconda-cloud": {},
  "colab": {
   "name": "05.09-Principal-Component-Analysis.ipynb",
   "provenance": []
  },
  "kernelspec": {
   "display_name": "Python 3",
   "language": "python",
   "name": "python3"
  },
  "language_info": {
   "codemirror_mode": {
    "name": "ipython",
    "version": 3
   },
   "file_extension": ".py",
   "mimetype": "text/x-python",
   "name": "python",
   "nbconvert_exporter": "python",
   "pygments_lexer": "ipython3",
   "version": "3.6.3"
  }
 },
 "nbformat": 4,
 "nbformat_minor": 1
}
