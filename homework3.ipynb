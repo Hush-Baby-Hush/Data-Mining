{
 "cells": [
  {
   "cell_type": "code",
   "execution_count": 15,
   "metadata": {},
   "outputs": [],
   "source": [
    "from itertools import combinations\n",
    "from collections import Counter\n",
    "\n",
    "def get_all_substrings(string):\n",
    "    length = len(string) + 1\n",
    "    return [string[x:y] for x, y in combinations(range(length), r=2)]\n",
    "\n",
    "def get_sequences(filename, min_sup):\n",
    "    with open(filename) as file:\n",
    "        lines = file.readlines()\n",
    "        lines = [line.rstrip() for line in lines]\n",
    "    \n",
    "    subsequences = []\n",
    "    for i in lines:\n",
    "        sequence = i[slice(5,-1)]\n",
    "        sub = get_all_substrings(sequence)\n",
    "        cleaned_sub = list(dict.fromkeys(sub))\n",
    "        subsequences.append(cleaned_sub)\n",
    "    flat_list = [item for sublist in subsequences for item in sublist]\n",
    "    dict_subsequences = dict(Counter(flat_list))\n",
    "    dict_subsequences = {k:v for k,v in dict_subsequences.items() if v >= min_sup}\n",
    "    return(dict_subsequences)\n",
    "        \n",
    "            \n",
    "        \n",
    "# Testing with a simple database and minimum support\n",
    "# get_sequences('test.txt', 2)"
   ]
  }
 ],
 "metadata": {
  "kernelspec": {
   "display_name": "Python 3",
   "language": "python",
   "name": "python3"
  },
  "language_info": {
   "codemirror_mode": {
    "name": "ipython",
    "version": 3
   },
   "file_extension": ".py",
   "mimetype": "text/x-python",
   "name": "python",
   "nbconvert_exporter": "python",
   "pygments_lexer": "ipython3",
   "version": "3.8.8"
  }
 },
 "nbformat": 4,
 "nbformat_minor": 2
}
