{
 "cells": [
  {
   "cell_type": "code",
   "execution_count": 3,
   "metadata": {},
   "outputs": [
    {
     "data": {
      "text/plain": [
       "{'b': 4,\n",
       " 'f': 3,\n",
       " 'a': 4,\n",
       " 'ab': 2,\n",
       " 'ca': 2,\n",
       " 'bc': 3,\n",
       " 'bca': 2,\n",
       " 'd': 3,\n",
       " 'c': 4,\n",
       " 'dc': 2,\n",
       " 'cbc': 2,\n",
       " 'cb': 3,\n",
       " 'e': 3,\n",
       " 'fcb': 2,\n",
       " 'fc': 2}"
      ]
     },
     "execution_count": 3,
     "metadata": {},
     "output_type": "execute_result"
    }
   ],
   "source": [
    "import itertools\n",
    "\n",
    "# Finding the frequent patterns of a 'file' with a specified 'min_sup'\n",
    "def get_sequences(file, min_sup):\n",
    "\n",
    "    with open(file) as file_object:\n",
    "        lines = file_object.readlines()\n",
    "\n",
    "    # Initialize a list of all possible combinations of strings in the database\n",
    "    # Create an empty dictionary that will keep all the frequent patterns\n",
    "    combos = []\n",
    "    count = 0\n",
    "    Fk = {}\n",
    "    for line in lines:\n",
    "        # Read through each line of the file and clean it up to only reveal the wanted string\n",
    "        begin = line.find(\"<\") + len(\"<\")\n",
    "        end = line.find(\">\")\n",
    "        substring = line[begin:end]\n",
    "\n",
    "        temp = []\n",
    "\n",
    "        # Create all the possible combinations from the current string\n",
    "        # Store each combination in a temp array\n",
    "        for i in range(1, len(substring)+1):\n",
    "            temp.append(list(itertools.combinations(substring, i)))\n",
    "\n",
    "        # This will be a list of lists of separate strings, so this \n",
    "        # combines each to form the desired frequent itemsets\n",
    "        for c in temp:\n",
    "            for t in c:\n",
    "                combos.append(''.join(t))\n",
    "\n",
    "        # Create the 'set' of the combos array that makes sure there are\n",
    "        # no repeats of frequent itemsets\n",
    "        # Loop through each combo and compare it to the current string\n",
    "        # and check if it is part of the string and whether it is in the dict or not\n",
    "        # print(set(combos))\n",
    "        for x in set(combos):\n",
    "            if x in substring:\n",
    "                if x not in Fk:\n",
    "                    Fk[x] = 1\n",
    "                else:\n",
    "                    Fk[x] += 1\n",
    "\n",
    "    #print(combos)\n",
    "    \n",
    "    # Cleanup the filled dictionary and remove the keys-values that do not meet the min_sup\n",
    "    Fk = {k:v for k,v in Fk.items() if v >= min_sup}\n",
    "\n",
    "    return(Fk)\n",
    "\n",
    "# Testing with a simple database and minimum support\n",
    "get_sequences('test.txt', 2)"
   ]
  },
  {
   "cell_type": "code",
   "execution_count": 5,
   "metadata": {},
   "outputs": [
    {
     "name": "stdout",
     "output_type": "stream",
     "text": [
      "['s1, <aabcacdcf>', 's2, <adcbcae>', 's3, <efabdfcb>', 's4, <egafcbc>']\n",
      "aabcacdcf\n",
      "adcbcae\n",
      "efabdfcb\n",
      "egafcbc\n"
     ]
    }
   ],
   "source": [
    "from itertools import combinations\n",
    "from collections import Counter\n",
    "\n",
    "def get_all_substrings(string):\n",
    "    length = len(string) + 1\n",
    "    return [string[x:y] for x, y in combinations(range(length), r=2)]\n",
    "\n",
    "def get_sequences(filename, min_sup):\n",
    "    with open(filename) as file:\n",
    "        lines = file.readlines()\n",
    "        lines = [line.rstrip() for line in lines]\n",
    "    print(lines)\n",
    "    \n",
    "    subsequences = []\n",
    "    for i in lines:\n",
    "        sequence = i[slice(5,-1)]\n",
    "        sub = get_all_substrings(sequence)\n",
    "        cleaned_sub = list(dict.fromkeys(sub))\n",
    "        subsequences.append(cleaned_sub)\n",
    "        \n",
    "    dict_subsequences = dict(Counter(subsequences))\n",
    "    \n",
    "        \n",
    "        \n",
    "        \n",
    "        \n",
    "        \n",
    "        \n",
    "        \n",
    "        \n",
    "        \n",
    "        \n",
    "        \n",
    "        \n",
    "        \n",
    "# Testing with a simple database and minimum support\n",
    "get_sequences('test.txt', 2)"
   ]
  },
  {
   "cell_type": "code",
   "execution_count": 11,
   "metadata": {},
   "outputs": [
    {
     "data": {
      "text/plain": [
       "{'a': 3,\n",
       " 'aa': 1,\n",
       " 'aab': 1,\n",
       " 'aabc': 1,\n",
       " 'aabca': 1,\n",
       " 'aabcac': 1,\n",
       " 'aabcacd': 1,\n",
       " 'aabcacdc': 1,\n",
       " 'aabcacdcf': 1,\n",
       " 'ab': 1,\n",
       " 'abc': 1,\n",
       " 'abca': 1,\n",
       " 'abcac': 1,\n",
       " 'abcacd': 1,\n",
       " 'abcacdc': 1,\n",
       " 'abcacdcf': 1,\n",
       " 'b': 1,\n",
       " 'bc': 1,\n",
       " 'bca': 1,\n",
       " 'bcac': 1,\n",
       " 'bcacd': 1,\n",
       " 'bcacdc': 1,\n",
       " 'bcacdcf': 1,\n",
       " 'c': 3,\n",
       " 'ca': 1,\n",
       " 'cac': 1,\n",
       " 'cacd': 1,\n",
       " 'cacdc': 1,\n",
       " 'cacdcf': 1,\n",
       " 'ac': 1,\n",
       " 'acd': 1,\n",
       " 'acdc': 1,\n",
       " 'acdcf': 1,\n",
       " 'cd': 1,\n",
       " 'cdc': 1,\n",
       " 'cdcf': 1,\n",
       " 'd': 1,\n",
       " 'dc': 1,\n",
       " 'dcf': 1,\n",
       " 'cf': 1,\n",
       " 'f': 1}"
      ]
     },
     "execution_count": 11,
     "metadata": {},
     "output_type": "execute_result"
    }
   ],
   "source": [
    "from collections import Counter\n",
    "def get_all_substrings(string):\n",
    "    length = len(string) + 1\n",
    "    return [string[x:y] for x, y in combinations(range(length), r=2)]\n",
    "result = get_all_substrings(\"aabcacdcf\")\n",
    "result\n",
    "dict(Counter(result))"
   ]
  },
  {
   "cell_type": "code",
   "execution_count": null,
   "metadata": {},
   "outputs": [],
   "source": []
  }
 ],
 "metadata": {
  "kernelspec": {
   "display_name": "Python 3",
   "language": "python",
   "name": "python3"
  },
  "language_info": {
   "codemirror_mode": {
    "name": "ipython",
    "version": 3
   },
   "file_extension": ".py",
   "mimetype": "text/x-python",
   "name": "python",
   "nbconvert_exporter": "python",
   "pygments_lexer": "ipython3",
   "version": "3.8.8"
  }
 },
 "nbformat": 4,
 "nbformat_minor": 2
}
