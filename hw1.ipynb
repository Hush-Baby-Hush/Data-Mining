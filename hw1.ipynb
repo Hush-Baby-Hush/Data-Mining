{
 "cells": [
  {
   "cell_type": "code",
   "execution_count": 45,
   "metadata": {
    "collapsed": true
   },
   "outputs": [],
   "source": [
    "import numpy as np\n",
    "from scipy import stats"
   ]
  },
  {
   "cell_type": "markdown",
   "metadata": {},
   "source": [
    "# Question 1"
   ]
  },
  {
   "cell_type": "code",
   "execution_count": 6,
   "metadata": {
    "collapsed": true
   },
   "outputs": [],
   "source": [
    "file = open(\"CS_412_Fall21_Assignment1/data.online.scores.txt\")\n",
    "data = np.loadtxt(file, unpack='true')\n",
    "file.close()"
   ]
  },
  {
   "cell_type": "code",
   "execution_count": 7,
   "metadata": {},
   "outputs": [
    {
     "data": {
      "text/plain": [
       "array([[   0.,    1.,    2., ...,  997.,  998.,  999.],\n",
       "       [  97.,   83.,   79., ...,   85.,   84.,   56.],\n",
       "       [  95.,   99.,   81., ...,   91.,   99.,   87.]])"
      ]
     },
     "execution_count": 7,
     "metadata": {},
     "output_type": "execute_result"
    }
   ],
   "source": [
    "data"
   ]
  },
  {
   "cell_type": "code",
   "execution_count": 49,
   "metadata": {},
   "outputs": [],
   "source": [
    "mid = data[1]"
   ]
  },
  {
   "cell_type": "markdown",
   "metadata": {},
   "source": [
    "## (a) maxmum is 100, minimum is 37"
   ]
  },
  {
   "cell_type": "markdown",
   "metadata": {},
   "source": [
    "Use max and min function to find the max number and min number in 1-D array mid"
   ]
  },
  {
   "cell_type": "code",
   "execution_count": 31,
   "metadata": {},
   "outputs": [
    {
     "data": {
      "text/plain": [
       "100.0"
      ]
     },
     "execution_count": 31,
     "metadata": {},
     "output_type": "execute_result"
    }
   ],
   "source": [
    "mid.max()"
   ]
  },
  {
   "cell_type": "code",
   "execution_count": 19,
   "metadata": {},
   "outputs": [
    {
     "data": {
      "text/plain": [
       "37.0"
      ]
     },
     "execution_count": 19,
     "metadata": {},
     "output_type": "execute_result"
    }
   ],
   "source": [
    "mid.min()"
   ]
  },
  {
   "cell_type": "markdown",
   "metadata": {},
   "source": [
    "## (b) First quartile Q1 = 68, median = 77, and third quartile Q3 = 87."
   ]
  },
  {
   "cell_type": "markdown",
   "metadata": {},
   "source": [
    "sort number from smallest to largest, and first quartile is the number in the 25% position, median number sit in the 50% position while third quartile sit in the 75% position.  "
   ]
  },
  {
   "cell_type": "code",
   "execution_count": 20,
   "metadata": {},
   "outputs": [
    {
     "data": {
      "text/plain": [
       "68.0"
      ]
     },
     "execution_count": 20,
     "metadata": {},
     "output_type": "execute_result"
    }
   ],
   "source": [
    "np.percentile(mid, 25)  # Q1"
   ]
  },
  {
   "cell_type": "code",
   "execution_count": 21,
   "metadata": {},
   "outputs": [
    {
     "data": {
      "text/plain": [
       "77.0"
      ]
     },
     "execution_count": 21,
     "metadata": {},
     "output_type": "execute_result"
    }
   ],
   "source": [
    "np.percentile(mid, 50)  # median"
   ]
  },
  {
   "cell_type": "code",
   "execution_count": 22,
   "metadata": {},
   "outputs": [
    {
     "data": {
      "text/plain": [
       "87.0"
      ]
     },
     "execution_count": 22,
     "metadata": {},
     "output_type": "execute_result"
    }
   ],
   "source": [
    "np.percentile(mid, 75)  # Q3"
   ]
  },
  {
   "cell_type": "markdown",
   "metadata": {},
   "source": [
    "## (c) Mean = 76.715"
   ]
  },
  {
   "cell_type": "markdown",
   "metadata": {},
   "source": [
    "sum all the numer in the array mid and then divide 100 which is the number in the array."
   ]
  },
  {
   "cell_type": "code",
   "execution_count": 23,
   "metadata": {},
   "outputs": [
    {
     "data": {
      "text/plain": [
       "76.715000000000003"
      ]
     },
     "execution_count": 23,
     "metadata": {},
     "output_type": "execute_result"
    }
   ],
   "source": [
    "np.mean(mid)"
   ]
  },
  {
   "cell_type": "markdown",
   "metadata": {},
   "source": [
    "## (d) Mode = 77, which occurs 37 times. "
   ]
  },
  {
   "cell_type": "markdown",
   "metadata": {},
   "source": [
    "Mode is the number with the most occurrence in the array mid. "
   ]
  },
  {
   "cell_type": "code",
   "execution_count": 29,
   "metadata": {},
   "outputs": [
    {
     "data": {
      "text/plain": [
       "ModeResult(mode=array([ 77.]), count=array([37]))"
      ]
     },
     "execution_count": 29,
     "metadata": {},
     "output_type": "execute_result"
    }
   ],
   "source": [
    "stats.mode(mid)"
   ]
  },
  {
   "cell_type": "markdown",
   "metadata": {},
   "source": [
    "## (e) Variance = 173.106"
   ]
  },
  {
   "cell_type": "markdown",
   "metadata": {},
   "source": [
    "sum (x-mean)^2 and then divided by N which is 100 to get variance."
   ]
  },
  {
   "cell_type": "code",
   "execution_count": 32,
   "metadata": {},
   "outputs": [
    {
     "data": {
      "text/plain": [
       "173.10577500000002"
      ]
     },
     "execution_count": 32,
     "metadata": {},
     "output_type": "execute_result"
    }
   ],
   "source": [
    "np.var(mid)"
   ]
  },
  {
   "cell_type": "markdown",
   "metadata": {},
   "source": [
    "# Qestion 2"
   ]
  },
  {
   "cell_type": "code",
   "execution_count": 33,
   "metadata": {},
   "outputs": [
    {
     "data": {
      "text/plain": [
       "246.5"
      ]
     },
     "execution_count": 33,
     "metadata": {},
     "output_type": "execute_result"
    }
   ],
   "source": [
    "Area = 46+64+79+92+65+53+35+32+27\n",
    "Area/2.0"
   ]
  },
  {
   "cell_type": "markdown",
   "metadata": {},
   "source": [
    "Delete area in 10-25 hours and we get 57.5 < 92 which is in 25-30 hours"
   ]
  },
  {
   "cell_type": "code",
   "execution_count": 35,
   "metadata": {},
   "outputs": [
    {
     "data": {
      "text/plain": [
       "57.5"
      ]
     },
     "execution_count": 35,
     "metadata": {},
     "output_type": "execute_result"
    }
   ],
   "source": [
    "246.5-46-64-79"
   ]
  },
  {
   "cell_type": "markdown",
   "metadata": {},
   "source": [
    "Therefore, we know the median is lacated within 25-30 hours."
   ]
  },
  {
   "cell_type": "code",
   "execution_count": 36,
   "metadata": {},
   "outputs": [
    {
     "data": {
      "text/plain": [
       "28.125"
      ]
     },
     "execution_count": 36,
     "metadata": {},
     "output_type": "execute_result"
    }
   ],
   "source": [
    "(30-25)/92*57.5+25"
   ]
  },
  {
   "cell_type": "markdown",
   "metadata": {},
   "source": [
    "### median hourly pay at SkyNet is about 28.125 dollars per hour"
   ]
  },
  {
   "cell_type": "markdown",
   "metadata": {},
   "source": [
    "# Question 3"
   ]
  },
  {
   "cell_type": "markdown",
   "metadata": {},
   "source": [
    "First calculate normalized midterm array"
   ]
  },
  {
   "cell_type": "markdown",
   "metadata": {},
   "source": [
    "z-score normalization: for every element in array mid, first minus mean, then divided by standard deviation of array mid."
   ]
  },
  {
   "cell_type": "code",
   "execution_count": 48,
   "metadata": {},
   "outputs": [
    {
     "data": {
      "text/plain": [
       "array([ 1.54176873,  0.47769369,  0.17367225, -0.35836527,  1.16174193,\n",
       "        0.09766689,  0.17367225, -0.66238671,  0.09766689,  0.02166153,\n",
       "       -0.13034919,  1.00973121,  0.62970441,  0.02166153,  0.93372585,\n",
       "        0.70570977, -0.8904028 , -0.73839207, -0.73839207,  1.23774729,\n",
       "        0.47769369,  1.54176873,  0.70570977, -1.19442424,  0.62970441,\n",
       "        1.46576337,  0.17367225, -1.19442424,  1.23774729,  1.61777409,\n",
       "        0.55369905, -1.72646176,  0.85772049,  0.70570977,  0.02166153,\n",
       "        1.08573657,  1.38975801,  0.24967761, -1.11841888, -0.96640816,\n",
       "        0.24967761,  1.31375265,  1.00973121,  0.40168833, -0.20635455,\n",
       "       -1.34643496, -0.43437063,  1.16174193,  0.17367225,  1.31375265,\n",
       "       -1.19442424, -0.05434383,  1.31375265,  0.47769369, -2.86654216,\n",
       "        0.24967761, -1.80246712,  1.76978481,  0.09766689,  1.54176873,\n",
       "       -0.58638135, -1.6504564 ,  1.00973121, -0.13034919, -1.42244032,\n",
       "        1.23774729,  0.32568297, -0.66238671,  0.02166153, -0.28235991,\n",
       "        1.08573657,  1.16174193, -0.13034919, -0.8904028 , -0.20635455,\n",
       "        0.02166153, -1.19442424,  0.24967761, -1.87847248, -1.80246712,\n",
       "        0.55369905,  1.31375265,  1.00973121, -0.96640816, -1.6504564 ,\n",
       "       -1.42244032,  1.08573657, -0.13034919,  1.08573657,  0.78171513,\n",
       "        1.00973121,  0.85772049, -0.66238671, -1.19442424,  1.38975801,\n",
       "       -1.6504564 ,  0.02166153,  1.08573657,  0.55369905,  0.17367225,\n",
       "        0.02166153,  1.00973121,  0.40168833,  0.47769369,  0.02166153,\n",
       "       -0.20635455,  0.40168833,  0.24967761, -0.96640816, -0.81439743,\n",
       "       -1.04241352, -2.0304832 ,  0.17367225,  0.85772049,  0.78171513,\n",
       "       -0.05434383, -0.20635455,  1.76978481, -0.05434383,  0.85772049,\n",
       "        0.02166153, -0.13034919,  0.78171513,  0.40168833, -0.35836527,\n",
       "       -0.35836527,  0.09766689, -0.66238671,  0.40168833,  0.09766689,\n",
       "       -1.2704296 , -0.58638135,  1.76978481, -0.51037599, -0.28235991,\n",
       "        1.16174193, -0.81439743, -1.11841888,  0.47769369, -0.20635455,\n",
       "        0.17367225, -0.35836527, -0.58638135, -0.43437063,  0.02166153,\n",
       "        0.47769369, -1.49844568, -0.43437063,  0.32568297, -0.35836527,\n",
       "       -0.05434383,  0.09766689, -0.13034919, -0.20635455,  1.00973121,\n",
       "       -0.51037599, -0.8904028 ,  1.00973121, -1.6504564 ,  0.24967761,\n",
       "        1.46576337,  0.02166153,  0.62970441,  0.62970441, -0.13034919,\n",
       "        0.40168833,  0.62970441, -2.0304832 ,  0.32568297, -0.35836527,\n",
       "        1.54176873, -1.72646176, -0.20635455, -0.8904028 , -0.05434383,\n",
       "        0.24967761,  0.62970441, -1.42244032, -1.2704296 , -0.43437063,\n",
       "        1.23774729, -1.57445104,  0.17367225,  1.38975801, -0.96640816,\n",
       "        0.47769369,  1.08573657, -0.20635455, -0.73839207, -0.05434383,\n",
       "        1.54176873,  0.70570977,  1.76978481,  0.24967761, -0.13034919,\n",
       "       -1.72646176, -0.43437063, -1.11841888,  0.32568297, -1.19442424,\n",
       "       -0.73839207, -1.42244032, -0.28235991,  1.23774729, -1.04241352,\n",
       "       -0.13034919,  0.70570977,  1.08573657, -1.34643496, -0.58638135,\n",
       "       -0.51037599, -1.11841888, -1.42244032,  0.93372585, -1.87847248,\n",
       "        0.62970441, -1.04241352,  1.08573657,  1.54176873, -0.66238671,\n",
       "        0.32568297,  0.32568297,  0.02166153,  1.00973121, -0.13034919,\n",
       "        0.02166153, -0.8904028 , -0.05434383,  0.47769369, -1.80246712,\n",
       "       -1.42244032,  0.47769369, -1.11841888,  0.70570977, -1.19442424,\n",
       "       -0.35836527,  0.55369905,  0.47769369, -0.51037599,  1.61777409,\n",
       "       -0.20635455, -0.05434383, -0.66238671, -0.66238671,  0.78171513,\n",
       "       -0.81439743,  0.62970441,  1.00973121, -0.28235991, -0.20635455,\n",
       "        1.38975801,  1.54176873,  0.78171513, -0.28235991,  0.40168833,\n",
       "        0.47769369,  0.55369905, -0.20635455, -0.58638135,  1.16174193,\n",
       "       -1.11841888,  1.16174193, -1.42244032,  0.09766689, -0.66238671,\n",
       "       -0.20635455, -0.73839207, -1.04241352, -1.34643496, -0.73839207,\n",
       "       -0.20635455, -0.51037599, -0.13034919,  0.24967761,  0.55369905,\n",
       "        1.31375265, -0.81439743,  0.70570977, -1.04241352,  0.24967761,\n",
       "       -0.43437063,  0.24967761,  0.47769369,  1.08573657,  1.46576337,\n",
       "        0.70570977,  0.62970441, -1.19442424, -1.95447784,  0.02166153,\n",
       "       -0.35836527, -0.66238671,  0.47769369,  0.24967761, -1.19442424,\n",
       "        1.69377945,  1.46576337, -0.20635455, -0.51037599, -0.28235991,\n",
       "       -1.57445104, -0.96640816,  0.09766689, -0.96640816, -0.28235991,\n",
       "        0.93372585,  1.54176873,  0.93372585,  0.24967761,  0.62970441,\n",
       "       -0.58638135, -0.35836527,  0.02166153, -0.51037599,  0.55369905,\n",
       "       -0.58638135,  0.47769369, -2.41051   , -0.13034919, -0.28235991,\n",
       "        0.93372585, -2.94254752, -2.0304832 , -0.13034919,  0.93372585,\n",
       "        0.62970441,  0.40168833,  0.09766689,  0.85772049, -0.81439743,\n",
       "        1.31375265,  0.02166153, -0.51037599,  0.93372585, -1.95447784,\n",
       "        1.23774729, -1.42244032,  0.24967761,  0.47769369,  1.76978481,\n",
       "        1.38975801,  0.17367225, -0.8904028 , -0.20635455, -0.35836527,\n",
       "        1.00973121, -0.8904028 , -1.49844568,  0.78171513,  0.02166153,\n",
       "       -1.2704296 ,  1.00973121,  0.47769369, -1.42244032, -3.01855288,\n",
       "        0.24967761,  0.09766689,  0.78171513, -0.58638135,  0.55369905,\n",
       "       -0.28235991,  1.23774729,  1.38975801, -0.81439743,  0.47769369,\n",
       "       -0.35836527,  1.61777409,  0.24967761,  0.62970441,  0.02166153,\n",
       "       -0.81439743,  0.78171513, -1.42244032, -0.20635455,  0.17367225,\n",
       "       -0.05434383, -0.73839207, -0.66238671, -2.0304832 , -0.20635455,\n",
       "       -0.35836527,  0.24967761,  1.31375265, -0.05434383,  0.62970441,\n",
       "       -2.48651536, -1.42244032, -1.57445104,  0.40168833,  0.02166153,\n",
       "        0.24967761,  1.46576337, -0.66238671, -1.87847248, -0.96640816,\n",
       "        1.16174193,  0.47769369, -1.42244032,  1.08573657, -0.05434383,\n",
       "        0.32568297,  1.69377945,  1.38975801, -1.04241352, -0.51037599,\n",
       "        0.32568297, -1.49844568,  1.16174193,  1.08573657, -1.87847248,\n",
       "        0.24967761,  0.24967761, -0.51037599,  1.08573657,  0.93372585,\n",
       "        0.32568297, -0.13034919,  0.62970441,  0.40168833,  0.47769369,\n",
       "       -2.48651536,  0.78171513,  0.93372585,  0.93372585, -1.57445104,\n",
       "        0.70570977, -0.20635455, -0.05434383,  0.85772049,  0.55369905,\n",
       "       -1.42244032, -0.43437063,  0.70570977, -2.18249392,  0.47769369,\n",
       "       -0.20635455, -0.51037599,  1.23774729, -1.42244032, -2.41051   ,\n",
       "        1.31375265,  0.85772049,  0.02166153,  1.54176873,  0.40168833,\n",
       "        1.46576337, -0.51037599,  0.32568297, -1.19442424,  0.40168833,\n",
       "        0.09766689,  0.40168833, -1.2704296 ,  1.46576337, -1.57445104,\n",
       "       -1.11841888,  0.85772049,  1.76978481,  1.08573657, -0.43437063,\n",
       "       -0.51037599, -0.20635455,  0.47769369, -0.35836527,  1.76978481,\n",
       "       -1.49844568,  1.69377945,  0.24967761,  0.24967761,  0.32568297,\n",
       "       -1.11841888, -0.81439743, -1.04241352,  0.62970441, -0.73839207,\n",
       "       -0.96640816,  0.78171513,  0.47769369,  0.40168833, -0.05434383,\n",
       "       -1.95447784, -1.49844568,  0.55369905, -0.28235991, -0.43437063,\n",
       "        1.31375265,  0.32568297, -0.28235991,  0.93372585,  1.16174193,\n",
       "       -2.41051   ,  1.76978481,  0.93372585, -0.05434383,  1.00973121,\n",
       "        1.46576337,  0.32568297,  1.08573657, -1.42244032,  1.46576337,\n",
       "       -0.8904028 , -0.58638135, -0.66238671, -1.42244032, -0.05434383,\n",
       "       -0.73839207, -0.96640816,  0.55369905, -0.8904028 ,  1.31375265,\n",
       "       -1.87847248,  0.55369905,  0.93372585,  1.08573657,  0.62970441,\n",
       "       -1.6504564 , -1.42244032,  1.16174193,  1.31375265,  0.02166153,\n",
       "       -0.96640816,  1.23774729,  0.17367225, -0.81439743,  0.17367225,\n",
       "       -0.05434383,  0.85772049,  0.24967761, -2.0304832 , -0.81439743,\n",
       "        0.32568297,  1.46576337, -0.20635455, -0.58638135,  1.31375265,\n",
       "        0.40168833,  0.78171513, -2.0304832 , -0.43437063, -0.51037599,\n",
       "        0.17367225,  0.93372585, -1.11841888, -1.42244032,  0.40168833,\n",
       "       -0.20635455, -1.19442424,  1.76978481, -0.51037599, -0.51037599,\n",
       "        1.31375265, -0.58638135, -1.04241352,  0.40168833, -0.73839207,\n",
       "        0.62970441, -0.43437063, -0.73839207, -0.20635455, -0.43437063,\n",
       "       -0.8904028 ,  0.62970441,  1.08573657,  1.31375265,  1.00973121,\n",
       "        1.00973121, -1.19442424,  0.93372585, -1.72646176,  0.09766689,\n",
       "        0.62970441,  1.16174193,  1.08573657,  1.69377945,  1.00973121,\n",
       "       -1.72646176,  1.76978481, -1.11841888, -0.81439743,  1.08573657,\n",
       "       -0.43437063, -0.05434383, -0.05434383,  1.23774729, -0.43437063,\n",
       "        0.47769369,  0.55369905, -1.2704296 ,  1.69377945,  0.78171513,\n",
       "        1.16174193,  1.00973121,  1.38975801,  0.78171513,  0.55369905,\n",
       "        0.55369905,  0.70570977,  0.09766689,  1.00973121,  0.85772049,\n",
       "       -2.56252072,  0.85772049,  0.55369905,  0.32568297,  0.85772049,\n",
       "       -0.8904028 , -1.49844568,  0.24967761,  0.09766689,  0.93372585,\n",
       "       -0.58638135,  0.02166153,  1.54176873,  1.38975801, -0.13034919,\n",
       "        0.93372585, -0.13034919, -0.35836527,  1.16174193,  1.69377945,\n",
       "        1.38975801,  1.31375265,  0.93372585,  0.02166153, -0.13034919,\n",
       "       -0.05434383, -1.49844568, -1.34643496,  1.54176873,  1.08573657,\n",
       "       -0.8904028 , -1.42244032, -0.43437063, -0.81439743, -1.49844568,\n",
       "        0.78171513,  1.08573657,  1.00973121, -0.28235991,  0.32568297,\n",
       "       -1.42244032, -0.35836527, -0.73839207, -0.35836527,  1.16174193,\n",
       "        0.40168833,  0.17367225,  1.16174193,  1.31375265, -0.28235991,\n",
       "       -0.13034919, -0.05434383, -0.35836527,  0.47769369, -0.20635455,\n",
       "        1.69377945, -0.81439743, -2.10648856,  0.17367225, -0.35836527,\n",
       "        0.47769369, -1.49844568,  0.17367225,  1.08573657, -0.28235991,\n",
       "       -1.57445104, -0.73839207, -0.96640816,  0.32568297,  1.08573657,\n",
       "        0.09766689, -1.87847248, -0.58638135, -1.49844568, -0.35836527,\n",
       "        0.24967761,  0.47769369, -1.19442424, -0.05434383,  0.62970441,\n",
       "       -0.81439743, -0.81439743,  0.32568297,  0.70570977,  1.46576337,\n",
       "       -0.05434383, -0.58638135, -1.57445104,  1.08573657, -1.42244032,\n",
       "       -2.0304832 , -1.34643496, -1.57445104, -0.13034919, -1.95447784,\n",
       "       -1.2704296 ,  0.78171513,  1.16174193, -0.43437063,  1.61777409,\n",
       "       -0.51037599,  0.47769369, -0.43437063, -0.58638135,  1.23774729,\n",
       "        0.85772049,  0.17367225,  0.85772049, -0.28235991,  0.55369905,\n",
       "        0.09766689, -0.51037599, -1.11841888, -0.51037599,  0.24967761,\n",
       "        0.32568297,  0.32568297,  0.85772049, -1.87847248, -0.43437063,\n",
       "       -0.96640816, -0.73839207, -0.35836527, -1.42244032, -1.42244032,\n",
       "        0.70570977,  1.76978481, -0.8904028 ,  0.55369905, -0.58638135,\n",
       "        1.46576337,  1.38975801,  1.54176873, -0.58638135, -1.72646176,\n",
       "       -2.10648856,  0.17367225,  1.54176873, -0.13034919, -0.13034919,\n",
       "        1.23774729,  1.08573657,  0.70570977, -0.13034919,  0.55369905,\n",
       "        0.93372585,  0.78171513,  0.17367225,  1.31375265,  1.54176873,\n",
       "       -0.28235991,  0.55369905,  1.46576337, -0.13034919,  1.46576337,\n",
       "        0.55369905,  0.55369905,  0.02166153, -2.18249392, -0.20635455,\n",
       "        1.69377945,  1.54176873, -0.66238671,  1.38975801,  1.69377945,\n",
       "        0.55369905,  0.02166153, -1.87847248, -0.43437063, -0.43437063,\n",
       "       -0.8904028 , -0.13034919, -0.13034919,  0.17367225, -0.96640816,\n",
       "        1.23774729, -0.43437063,  0.93372585, -0.05434383, -0.43437063,\n",
       "        0.93372585,  0.24967761, -0.35836527,  1.31375265,  1.31375265,\n",
       "        0.09766689, -0.20635455, -0.13034919, -0.66238671, -1.2704296 ,\n",
       "        0.09766689, -1.80246712,  0.09766689,  0.32568297, -0.28235991,\n",
       "       -0.20635455,  0.24967761,  0.62970441,  1.46576337,  0.32568297,\n",
       "        1.16174193, -0.28235991,  1.31375265,  1.00973121,  0.17367225,\n",
       "        1.38975801,  0.93372585, -1.19442424, -0.43437063, -2.94254752,\n",
       "       -0.05434383,  0.47769369,  0.47769369, -0.96640816, -0.96640816,\n",
       "       -1.80246712, -0.43437063, -0.20635455,  0.47769369, -0.20635455,\n",
       "       -1.72646176, -1.2704296 ,  0.24967761,  1.23774729,  0.93372585,\n",
       "        1.31375265,  0.32568297, -1.04241352,  1.76978481,  1.54176873,\n",
       "       -0.13034919, -0.13034919,  0.70570977,  0.55369905, -0.35836527,\n",
       "        1.31375265,  1.00973121, -1.2704296 , -2.63852608,  0.09766689,\n",
       "       -0.81439743, -3.01855288,  0.47769369, -2.71453144,  1.54176873,\n",
       "        0.17367225, -0.51037599,  0.62970441,  0.02166153,  0.47769369,\n",
       "       -1.57445104, -0.05434383,  1.76978481, -0.66238671,  0.24967761,\n",
       "       -1.04241352,  0.02166153, -0.96640816,  1.46576337,  0.02166153,\n",
       "       -0.58638135,  0.02166153,  0.47769369, -0.73839207, -1.34643496,\n",
       "        1.31375265, -0.35836527, -0.28235991,  0.40168833, -2.10648856,\n",
       "       -1.2704296 ,  0.78171513,  0.02166153, -1.34643496,  0.85772049,\n",
       "       -0.20635455,  0.85772049,  0.09766689, -0.81439743, -0.58638135,\n",
       "       -2.0304832 , -0.20635455,  0.62970441,  1.54176873,  1.46576337,\n",
       "        1.00973121, -0.81439743, -0.13034919, -0.13034919,  0.02166153,\n",
       "       -0.05434383,  1.61777409, -1.11841888,  0.62970441,  0.24967761,\n",
       "       -0.81439743, -1.80246712,  1.08573657,  0.78171513, -0.05434383,\n",
       "       -0.43437063,  0.70570977, -1.87847248,  0.85772049, -0.43437063,\n",
       "        1.38975801,  0.02166153,  0.02166153,  1.16174193,  1.08573657,\n",
       "       -0.96640816,  1.00973121, -0.81439743, -1.49844568, -1.57445104,\n",
       "       -0.81439743, -1.04241352,  0.47769369,  0.62970441, -1.42244032,\n",
       "       -0.05434383,  0.47769369, -1.57445104,  0.93372585,  0.93372585,\n",
       "       -0.35836527,  0.24967761,  1.00973121,  0.24967761,  1.08573657,\n",
       "       -1.11841888, -0.13034919,  0.93372585, -1.19442424, -0.35836527,\n",
       "       -1.42244032, -0.8904028 ,  1.54176873,  1.61777409,  1.00973121,\n",
       "       -1.2704296 ,  0.78171513,  0.24967761, -0.35836527,  0.17367225,\n",
       "        0.09766689,  0.55369905, -1.19442424,  0.32568297,  0.47769369,\n",
       "        1.38975801, -0.8904028 , -2.33450464, -1.57445104,  0.70570977,\n",
       "        0.55369905, -0.05434383, -0.66238671,  0.02166153,  1.69377945,\n",
       "       -0.58638135,  0.93372585,  1.38975801,  1.69377945, -1.95447784,\n",
       "        0.02166153, -0.20635455,  0.62970441, -0.73839207, -0.8904028 ,\n",
       "        1.08573657,  0.70570977,  0.02166153, -0.66238671, -1.2704296 ,\n",
       "       -1.72646176, -0.58638135, -0.13034919,  1.16174193, -1.42244032,\n",
       "        0.02166153,  0.32568297,  0.55369905,  1.23774729, -1.49844568,\n",
       "        0.32568297, -2.48651536,  1.46576337, -0.20635455,  0.32568297,\n",
       "        0.47769369,  0.09766689, -1.04241352, -1.95447784, -0.81439743,\n",
       "        1.54176873,  0.40168833,  0.62970441,  0.55369905, -1.57445104])"
      ]
     },
     "execution_count": 48,
     "metadata": {},
     "output_type": "execute_result"
    }
   ],
   "source": [
    "normalized_mid = (mid-76.715)/np.std(mid)\n",
    "normalized_mid"
   ]
  },
  {
   "cell_type": "markdown",
   "metadata": {},
   "source": [
    "## (a) Variance of midterm-original = 173.106, Variance of midterm-normalized = 1"
   ]
  },
  {
   "cell_type": "markdown",
   "metadata": {},
   "source": [
    "sum (x-mean)^2 and then divided by N which is 100 to get variance."
   ]
  },
  {
   "cell_type": "code",
   "execution_count": 52,
   "metadata": {},
   "outputs": [
    {
     "data": {
      "text/plain": [
       "0.99999999999999978"
      ]
     },
     "execution_count": 52,
     "metadata": {},
     "output_type": "execute_result"
    }
   ],
   "source": [
    "np.var(normalized_mid)"
   ]
  },
  {
   "cell_type": "code",
   "execution_count": 53,
   "metadata": {},
   "outputs": [
    {
     "data": {
      "text/plain": [
       "173.10577500000002"
      ]
     },
     "execution_count": 53,
     "metadata": {},
     "output_type": "execute_result"
    }
   ],
   "source": [
    "np.var(mid)"
   ]
  },
  {
   "cell_type": "markdown",
   "metadata": {},
   "source": [
    "## (b) Given 90, the corresponding score after normalization is 1.009731210573523"
   ]
  },
  {
   "cell_type": "code",
   "execution_count": 54,
   "metadata": {},
   "outputs": [
    {
     "data": {
      "text/plain": [
       "1.009731210573523"
      ]
     },
     "execution_count": 54,
     "metadata": {},
     "output_type": "execute_result"
    }
   ],
   "source": [
    "(90-np.mean(mid))/np.std(mid) # first minus mean then divided by standard deviation"
   ]
  },
  {
   "cell_type": "code",
   "execution_count": 55,
   "metadata": {},
   "outputs": [
    {
     "data": {
      "text/plain": [
       "1.009731210573523"
      ]
     },
     "execution_count": 55,
     "metadata": {},
     "output_type": "execute_result"
    }
   ],
   "source": [
    "normalized_mid[11] # Also, which is student id 11"
   ]
  },
  {
   "cell_type": "markdown",
   "metadata": {},
   "source": [
    "## (c) Pearson's correlation coefficient between midterm-original and finals-original is 0.544424742312"
   ]
  },
  {
   "cell_type": "code",
   "execution_count": 62,
   "metadata": {
    "collapsed": true
   },
   "outputs": [],
   "source": [
    "final = data[2]"
   ]
  },
  {
   "cell_type": "markdown",
   "metadata": {},
   "source": [
    "Pearson's correlation coefficient = covariance(X, Y) / (stdv(X) * stdv(Y))\n",
    "    Here X is mid, Y is final"
   ]
  },
  {
   "cell_type": "code",
   "execution_count": 63,
   "metadata": {},
   "outputs": [
    {
     "name": "stdout",
     "output_type": "stream",
     "text": [
      "0.544424742312\n"
     ]
    }
   ],
   "source": [
    "corr, _ = stats.pearsonr(mid, final)\n",
    "print(corr)"
   ]
  },
  {
   "cell_type": "markdown",
   "metadata": {},
   "source": [
    "## (d) Pearson's correlation coefficient between midterm-normalized and finals-original is 0.544424742312"
   ]
  },
  {
   "cell_type": "markdown",
   "metadata": {},
   "source": [
    "Pearson's correlation coefficient = covariance(X, Y) / (stdv(X) * stdv(Y))\n",
    "Here X is normalized mid, Y is final"
   ]
  },
  {
   "cell_type": "code",
   "execution_count": 64,
   "metadata": {},
   "outputs": [
    {
     "name": "stdout",
     "output_type": "stream",
     "text": [
      "0.544424742312\n"
     ]
    }
   ],
   "source": [
    "corr, _ = stats.pearsonr(normalized_mid, final)\n",
    "print(corr)"
   ]
  },
  {
   "cell_type": "markdown",
   "metadata": {},
   "source": [
    "## (e) covariance between midterm-original and finals-original is 0.54442474"
   ]
  },
  {
   "cell_type": "markdown",
   "metadata": {},
   "source": [
    "covariance = sum(xi-x_mean)(yj-y_mean)/N"
   ]
  },
  {
   "cell_type": "code",
   "execution_count": 66,
   "metadata": {},
   "outputs": [
    {
     "data": {
      "text/plain": [
       "array([[ 1.        ,  0.54442474],\n",
       "       [ 0.54442474,  1.        ]])"
      ]
     },
     "execution_count": 66,
     "metadata": {},
     "output_type": "execute_result"
    }
   ],
   "source": [
    "np.corrcoef(mid,final)"
   ]
  },
  {
   "cell_type": "markdown",
   "metadata": {},
   "source": [
    "# Question 4"
   ]
  },
  {
   "cell_type": "code",
   "execution_count": 76,
   "metadata": {},
   "outputs": [
    {
     "data": {
      "text/html": [
       "<div>\n",
       "<style>\n",
       "    .dataframe thead tr:only-child th {\n",
       "        text-align: right;\n",
       "    }\n",
       "\n",
       "    .dataframe thead th {\n",
       "        text-align: left;\n",
       "    }\n",
       "\n",
       "    .dataframe tbody tr th {\n",
       "        vertical-align: top;\n",
       "    }\n",
       "</style>\n",
       "<table border=\"1\" class=\"dataframe\">\n",
       "  <thead>\n",
       "    <tr style=\"text-align: right;\">\n",
       "      <th></th>\n",
       "      <th>library</th>\n",
       "      <th>book_1</th>\n",
       "      <th>book_2</th>\n",
       "      <th>book_3</th>\n",
       "      <th>book_4</th>\n",
       "      <th>book_5</th>\n",
       "      <th>book_6</th>\n",
       "      <th>book_7</th>\n",
       "      <th>book_8</th>\n",
       "      <th>book_9</th>\n",
       "      <th>...</th>\n",
       "      <th>book_91</th>\n",
       "      <th>book_92</th>\n",
       "      <th>book_93</th>\n",
       "      <th>book_94</th>\n",
       "      <th>book_95</th>\n",
       "      <th>book_96</th>\n",
       "      <th>book_97</th>\n",
       "      <th>book_98</th>\n",
       "      <th>book_99</th>\n",
       "      <th>book_100</th>\n",
       "    </tr>\n",
       "  </thead>\n",
       "  <tbody>\n",
       "    <tr>\n",
       "      <th>0</th>\n",
       "      <td>CML</td>\n",
       "      <td>53</td>\n",
       "      <td>136</td>\n",
       "      <td>90</td>\n",
       "      <td>103</td>\n",
       "      <td>36</td>\n",
       "      <td>93</td>\n",
       "      <td>195</td>\n",
       "      <td>51</td>\n",
       "      <td>192</td>\n",
       "      <td>...</td>\n",
       "      <td>50</td>\n",
       "      <td>144</td>\n",
       "      <td>46</td>\n",
       "      <td>110</td>\n",
       "      <td>163</td>\n",
       "      <td>183</td>\n",
       "      <td>107</td>\n",
       "      <td>129</td>\n",
       "      <td>162</td>\n",
       "      <td>173</td>\n",
       "    </tr>\n",
       "    <tr>\n",
       "      <th>1</th>\n",
       "      <td>CBL</td>\n",
       "      <td>103</td>\n",
       "      <td>80</td>\n",
       "      <td>132</td>\n",
       "      <td>167</td>\n",
       "      <td>144</td>\n",
       "      <td>172</td>\n",
       "      <td>108</td>\n",
       "      <td>89</td>\n",
       "      <td>103</td>\n",
       "      <td>...</td>\n",
       "      <td>92</td>\n",
       "      <td>139</td>\n",
       "      <td>122</td>\n",
       "      <td>123</td>\n",
       "      <td>123</td>\n",
       "      <td>61</td>\n",
       "      <td>135</td>\n",
       "      <td>90</td>\n",
       "      <td>125</td>\n",
       "      <td>118</td>\n",
       "    </tr>\n",
       "  </tbody>\n",
       "</table>\n",
       "<p>2 rows × 101 columns</p>\n",
       "</div>"
      ],
      "text/plain": [
       "  library  book_1  book_2  book_3  book_4  book_5  book_6  book_7  book_8  \\\n",
       "0     CML      53     136      90     103      36      93     195      51   \n",
       "1     CBL     103      80     132     167     144     172     108      89   \n",
       "\n",
       "   book_9    ...     book_91  book_92  book_93  book_94  book_95  book_96  \\\n",
       "0     192    ...          50      144       46      110      163      183   \n",
       "1     103    ...          92      139      122      123      123       61   \n",
       "\n",
       "   book_97  book_98  book_99  book_100  \n",
       "0      107      129      162       173  \n",
       "1      135       90      125       118  \n",
       "\n",
       "[2 rows x 101 columns]"
      ]
     },
     "execution_count": 76,
     "metadata": {},
     "output_type": "execute_result"
    }
   ],
   "source": [
    "import pandas as pd\n",
    "lib = pd.read_table(\"CS_412_Fall21_Assignment1/data.libraries.inventories.txt\")\n",
    "lib"
   ]
  },
  {
   "cell_type": "markdown",
   "metadata": {},
   "source": [
    "## (a) Minkowski distance of the vectors for CML and CBL with regard to different h values:"
   ]
  },
  {
   "cell_type": "code",
   "execution_count": 102,
   "metadata": {},
   "outputs": [
    {
     "data": {
      "text/plain": [
       "array([53, 136, 90, 103, 36, 93, 195, 51, 192, 148, 79, 30, 48, 80, 242,\n",
       "       77, 170, 137, 41, 146, 116, 186, 101, 173, 110, 50, 149, 139, 30,\n",
       "       119, 86, 97, 25, 63, 173, 130, 60, 148, 129, 69, 167, 83, 121, 28,\n",
       "       133, 173, 149, 105, 64, 134, 137, 21, 179, 116, 35, 119, 60, 140,\n",
       "       150, 68, 145, 197, 80, 73, 128, 3, 180, 96, 111, 95, 122, 132, 64,\n",
       "       181, 165, 129, 79, 63, 72, 187, 99, 143, 49, 131, 84, 179, 215, 112,\n",
       "       76, 64, 50, 144, 46, 110, 163, 183, 107, 129, 162, 173], dtype=object)"
      ]
     },
     "execution_count": 102,
     "metadata": {},
     "output_type": "execute_result"
    }
   ],
   "source": [
    "CML = lib.values[0][1:101]\n",
    "CML"
   ]
  },
  {
   "cell_type": "code",
   "execution_count": 103,
   "metadata": {
    "scrolled": true
   },
   "outputs": [
    {
     "data": {
      "text/plain": [
       "array([103, 80, 132, 167, 144, 172, 108, 89, 103, 63, 65, 58, 141, 116,\n",
       "       152, 122, 129, 83, 175, 116, 173, 67, 61, 114, 195, 166, 85, 42, 87,\n",
       "       183, 217, 125, 109, 71, 93, 71, 77, 209, 134, 59, 99, 147, 75, 50,\n",
       "       181, 102, 173, 160, 147, 97, 90, 57, 151, 100, 102, 181, 118, 163,\n",
       "       141, 146, 149, 149, 250, 128, 155, 148, 123, 189, 80, 186, 80, 114,\n",
       "       102, 31, 66, 34, 59, 213, 104, 251, 31, 75, 164, 214, 53, 79, 118,\n",
       "       75, 169, 192, 92, 139, 122, 123, 123, 61, 135, 90, 125, 118], dtype=object)"
      ]
     },
     "execution_count": 103,
     "metadata": {},
     "output_type": "execute_result"
    }
   ],
   "source": [
    "CBL = lib.values[1][1:101]\n",
    "CBL"
   ]
  },
  {
   "cell_type": "code",
   "execution_count": 104,
   "metadata": {
    "collapsed": true
   },
   "outputs": [],
   "source": [
    "from scipy.spatial import distance"
   ]
  },
  {
   "cell_type": "markdown",
   "metadata": {},
   "source": [
    "## h = 1: distance = 6152"
   ]
  },
  {
   "cell_type": "code",
   "execution_count": 105,
   "metadata": {},
   "outputs": [
    {
     "data": {
      "text/plain": [
       "6152"
      ]
     },
     "execution_count": 105,
     "metadata": {},
     "output_type": "execute_result"
    }
   ],
   "source": [
    "distance.minkowski(CML, CBL, 1)"
   ]
  },
  {
   "cell_type": "markdown",
   "metadata": {},
   "source": [
    "## h = 2: distance = 715.3278968417211"
   ]
  },
  {
   "cell_type": "code",
   "execution_count": 106,
   "metadata": {},
   "outputs": [
    {
     "data": {
      "text/plain": [
       "715.3278968417211"
      ]
     },
     "execution_count": 106,
     "metadata": {},
     "output_type": "execute_result"
    }
   ],
   "source": [
    "distance.minkowski(CML, CBL, 2)"
   ]
  },
  {
   "cell_type": "markdown",
   "metadata": {},
   "source": [
    "## h = infinity: distance = 170"
   ]
  },
  {
   "cell_type": "markdown",
   "metadata": {},
   "source": [
    "###### as p approaches infinity, the Minkowski distance approaches maximum difference of coordinates. We obtain the Chebyshev distance."
   ]
  },
  {
   "cell_type": "code",
   "execution_count": 150,
   "metadata": {},
   "outputs": [
    {
     "data": {
      "text/plain": [
       "170"
      ]
     },
     "execution_count": 150,
     "metadata": {},
     "output_type": "execute_result"
    }
   ],
   "source": [
    "from scipy.spatial import distance\n",
    "distance.chebyshev(CML,CBL)"
   ]
  },
  {
   "cell_type": "markdown",
   "metadata": {},
   "source": [
    "## (b) The cosine similarity between the feature vectors for CML and CBL is 0.84140402566230776"
   ]
  },
  {
   "cell_type": "markdown",
   "metadata": {},
   "source": [
    "Cos(x, y) = x . y / ||x|| * ||y||"
   ]
  },
  {
   "cell_type": "code",
   "execution_count": 114,
   "metadata": {},
   "outputs": [
    {
     "data": {
      "text/plain": [
       "0.84140402566230776"
      ]
     },
     "execution_count": 114,
     "metadata": {},
     "output_type": "execute_result"
    }
   ],
   "source": [
    "from scipy import spatial\n",
    "\n",
    "result = 1 - spatial.distance.cosine(CML, CBL)\n",
    "result"
   ]
  },
  {
   "cell_type": "markdown",
   "metadata": {},
   "source": [
    "spatial.distance.cosine computes the distance, and not the similarity. So we subtract the value from 1 to get the similarity."
   ]
  },
  {
   "cell_type": "markdown",
   "metadata": {},
   "source": [
    "## (c) the Kullback-Leibler (KL) divergence between CML and CBL is D(CML||CBL) = 0.20708093733159472"
   ]
  },
  {
   "cell_type": "markdown",
   "metadata": {},
   "source": [
    "First we build distribution for both CML and CBL Ki = Ii/(I1+I2+...+I100)"
   ]
  },
  {
   "cell_type": "code",
   "execution_count": 145,
   "metadata": {},
   "outputs": [
    {
     "data": {
      "text/plain": [
       "1.0000000000000002"
      ]
     },
     "execution_count": 145,
     "metadata": {},
     "output_type": "execute_result"
    }
   ],
   "source": [
    "CML_distribution = CML/sum(CML)\n",
    "CML_distribution = CML_distribution.astype('float64')\n",
    "sum(CML_distribution)"
   ]
  },
  {
   "cell_type": "code",
   "execution_count": 146,
   "metadata": {},
   "outputs": [
    {
     "data": {
      "text/plain": [
       "1.0000000000000002"
      ]
     },
     "execution_count": 146,
     "metadata": {},
     "output_type": "execute_result"
    }
   ],
   "source": [
    "CBL_distribution = CBL/sum(CBL)\n",
    "CBL_distribution = CBL_distribution.astype('float64')\n",
    "sum(CBL_distribution)"
   ]
  },
  {
   "cell_type": "markdown",
   "metadata": {},
   "source": [
    "###### calculate the kl divergence<br>\n",
    "def kl_divergence(p, q):<br>\n",
    ">return sum(p[i] * log2(p[i]/q[i]) for i in range(len(p)))"
   ]
  },
  {
   "cell_type": "code",
   "execution_count": 147,
   "metadata": {},
   "outputs": [
    {
     "data": {
      "text/plain": [
       "0.20708093733159472"
      ]
     },
     "execution_count": 147,
     "metadata": {},
     "output_type": "execute_result"
    }
   ],
   "source": [
    "# we use scipy function to solve the answer.\n",
    "from scipy.stats import entropy\n",
    "entropy(CML_distribution,CBL_distribution)"
   ]
  }
 ],
 "metadata": {
  "kernelspec": {
   "display_name": "Python 3",
   "language": "python",
   "name": "python3"
  },
  "language_info": {
   "codemirror_mode": {
    "name": "ipython",
    "version": 3
   },
   "file_extension": ".py",
   "mimetype": "text/x-python",
   "name": "python",
   "nbconvert_exporter": "python",
   "pygments_lexer": "ipython3",
   "version": "3.6.3"
  }
 },
 "nbformat": 4,
 "nbformat_minor": 2
}
